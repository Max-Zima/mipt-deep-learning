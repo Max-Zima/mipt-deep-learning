{
 "cells": [
  {
   "cell_type": "markdown",
   "id": "5d5abdb2-260d-44c1-8379-a78a69184992",
   "metadata": {},
   "source": [
    "# Домашнее задание 1. Соревнование на Kaggle"
   ]
  },
  {
   "cell_type": "markdown",
   "id": "f7f19a28-b54e-425f-a0a3-0bca944fbb72",
   "metadata": {},
   "source": [
    "## Выполнил: Зимаков Максим Александрович"
   ]
  },
  {
   "cell_type": "markdown",
   "id": "56de631e-6197-4ae4-a504-0e52d094060f",
   "metadata": {},
   "source": [
    "## Задание:"
   ]
  },
  {
   "cell_type": "markdown",
   "id": "7f1e9287-9261-4e52-8b2d-0a7d269ea103",
   "metadata": {},
   "source": [
    "В рамках данного учебного соревнования вам предстоит построить модель, классифицирующую изображения с одеждой, которая построена на датасете **Fashion-MNIST**."
   ]
  },
  {
   "cell_type": "markdown",
   "id": "e2bf58f7-5f4b-45fa-b511-74cbb4aeb0e3",
   "metadata": {},
   "source": [
    "> **Fashion-MNIST** — аналог знаменитого датасета MNIST, который состоит не из рукописных символов, а из предметов одежды. Он был создан, чтобы актуализировать учебные задачи в компьютерном зрении и приблизить их к реальности."
   ]
  },
  {
   "cell_type": "markdown",
   "id": "39f119c1-4f44-48d9-abf7-faa1bcf9cddd",
   "metadata": {},
   "source": [
    "Решение более сложной постановки этой задачи может использоваться, например, в маркетплейсах. Покупателю могут рекомендоваться товары по изображениям в соответствии с введенным описанием. Продавцу при загрузке изображений в карточку товара могут автоматически рекомендоваться теги и описание предмета одежды."
   ]
  },
  {
   "cell_type": "markdown",
   "id": "151bb734-b013-4b00-83e6-4ee0c240b2e1",
   "metadata": {},
   "source": [
    "Каждое изображение представляет собой набор из 784 пикселей (28x28). Каждый пиксель принимает значение от 0 до 255, обозначая его цвет в черно-белой шкале. Обучающая выборка содержит 786 столбцов, где первый (label) — принадлежность изображения к классу, а последний — его уникальный номер (id). Остальные столбцы — пиксели изображения."
   ]
  },
  {
   "cell_type": "markdown",
   "id": "3467dbff-b649-49b6-a215-0efcc74d698e",
   "metadata": {},
   "source": [
    "Проведите первичный анализ данных, чтобы определить наличие NaN значений."
   ]
  },
  {
   "cell_type": "markdown",
   "id": "34d83ad1-3cb7-4470-8fee-1aa787491f63",
   "metadata": {},
   "source": [
    "Тестовая выборка, на основе которой должно быть получено исследование, содержит все те же столбцы, кроме ```label```."
   ]
  },
  {
   "cell_type": "markdown",
   "id": "2f09b440-14f7-4254-9a82-a2a956855f53",
   "metadata": {},
   "source": [
    "Расшифровка классов (```label```), к которым принадлежат изображения:\n",
    "\n",
    "0. ```T-shirt/top``` — футболка;\n",
    "1. ```Trouser``` — брюки;\n",
    "2. ```Pullover``` — свитер;\n",
    "3. ```Dress``` — платье;\n",
    "4. ```Coat``` — пальто;\n",
    "5. ```Sandal``` — сандалия;\n",
    "6. ```Shirt``` — рубашка;\n",
    "7. ```Sneaker``` — кроссовок;\n",
    "8. ```Bag``` — сумка;\n",
    "9. ```Ankle boot``` — сапог."
   ]
  },
  {
   "cell_type": "markdown",
   "id": "bb7ff53d-bf6e-4184-8f98-2223b9fa9a0c",
   "metadata": {},
   "source": [
    "Структура данных:\n",
    "\n",
    "* ```fmnist_train.csv``` — обучающая выборка;\n",
    "* ```fmnist_test.csv``` — тестовая выборка (на которой должно быть получено предсказание);\n",
    "* ```sample_submission.csv``` — пример решения."
   ]
  },
  {
   "cell_type": "markdown",
   "id": "2738a7aa-11ed-4871-a50b-54d5fe8a2484",
   "metadata": {},
   "source": [
    "Исходная публикация датасета"
   ]
  },
  {
   "cell_type": "markdown",
   "id": "6bdcd66b-c281-45eb-b38e-1f4223e65f05",
   "metadata": {},
   "source": [
    "Задача будет считаться решенной, если в Public Leaderboard вы наберете ```score```, который будет равен 0.80 или больше. В качестве метрики используется ```accuracy```. В день вы можете отправлять не более 20 решений (это ограничения платформы). Помните, что решения принимаются только в том формате, который представлен в файле ```sample_submission.csv```."
   ]
  },
  {
   "cell_type": "markdown",
   "id": "550cbcd3-ed74-4b93-891a-e0f09ef4607a",
   "metadata": {},
   "source": [
    "## Выполнение:"
   ]
  },
  {
   "cell_type": "code",
   "execution_count": 15,
   "id": "2099d05d-f0e9-44ef-95ac-ace69c4d65de",
   "metadata": {},
   "outputs": [
    {
     "name": "stdout",
     "output_type": "stream",
     "text": [
      "WARNING:tensorflow:From C:\\Users\\max-z\\AppData\\Roaming\\Python\\Python311\\site-packages\\keras\\src\\losses.py:2976: The name tf.losses.sparse_softmax_cross_entropy is deprecated. Please use tf.compat.v1.losses.sparse_softmax_cross_entropy instead.\n",
      "\n"
     ]
    }
   ],
   "source": [
    "# Импортьирует библиотеки\n",
    "import numpy as np\n",
    "import pandas as pd\n",
    "import matplotlib.pyplot as plt\n",
    "from sklearn.model_selection import train_test_split\n",
    "\n",
    "from tensorflow import keras\n",
    "from tensorflow.keras import layers\n",
    "from tensorflow.keras.optimizers import Adam\n",
    "from tensorflow.keras.preprocessing.image import ImageDataGenerator"
   ]
  },
  {
   "cell_type": "markdown",
   "id": "88a1a1ab-5736-45ce-aa21-738370500887",
   "metadata": {},
   "source": [
    "### Загрузка данных"
   ]
  },
  {
   "cell_type": "code",
   "execution_count": 17,
   "id": "324aac1d-3845-4009-9c76-55032c88dfac",
   "metadata": {},
   "outputs": [
    {
     "data": {
      "text/html": [
       "<div>\n",
       "<style scoped>\n",
       "    .dataframe tbody tr th:only-of-type {\n",
       "        vertical-align: middle;\n",
       "    }\n",
       "\n",
       "    .dataframe tbody tr th {\n",
       "        vertical-align: top;\n",
       "    }\n",
       "\n",
       "    .dataframe thead th {\n",
       "        text-align: right;\n",
       "    }\n",
       "</style>\n",
       "<table border=\"1\" class=\"dataframe\">\n",
       "  <thead>\n",
       "    <tr style=\"text-align: right;\">\n",
       "      <th></th>\n",
       "      <th>label</th>\n",
       "      <th>pixel1</th>\n",
       "      <th>pixel2</th>\n",
       "      <th>pixel3</th>\n",
       "      <th>pixel4</th>\n",
       "      <th>pixel5</th>\n",
       "      <th>pixel6</th>\n",
       "      <th>pixel7</th>\n",
       "      <th>pixel8</th>\n",
       "      <th>pixel9</th>\n",
       "      <th>...</th>\n",
       "      <th>pixel776</th>\n",
       "      <th>pixel777</th>\n",
       "      <th>pixel778</th>\n",
       "      <th>pixel779</th>\n",
       "      <th>pixel780</th>\n",
       "      <th>pixel781</th>\n",
       "      <th>pixel782</th>\n",
       "      <th>pixel783</th>\n",
       "      <th>pixel784</th>\n",
       "      <th>Id</th>\n",
       "    </tr>\n",
       "  </thead>\n",
       "  <tbody>\n",
       "    <tr>\n",
       "      <th>0</th>\n",
       "      <td>2</td>\n",
       "      <td>0</td>\n",
       "      <td>0</td>\n",
       "      <td>0</td>\n",
       "      <td>0</td>\n",
       "      <td>0</td>\n",
       "      <td>0</td>\n",
       "      <td>0</td>\n",
       "      <td>0</td>\n",
       "      <td>0</td>\n",
       "      <td>...</td>\n",
       "      <td>0.0</td>\n",
       "      <td>0.0</td>\n",
       "      <td>0.0</td>\n",
       "      <td>0.0</td>\n",
       "      <td>0.0</td>\n",
       "      <td>0.0</td>\n",
       "      <td>0.0</td>\n",
       "      <td>0.0</td>\n",
       "      <td>0.0</td>\n",
       "      <td>0</td>\n",
       "    </tr>\n",
       "    <tr>\n",
       "      <th>1</th>\n",
       "      <td>9</td>\n",
       "      <td>0</td>\n",
       "      <td>0</td>\n",
       "      <td>0</td>\n",
       "      <td>0</td>\n",
       "      <td>0</td>\n",
       "      <td>0</td>\n",
       "      <td>0</td>\n",
       "      <td>0</td>\n",
       "      <td>0</td>\n",
       "      <td>...</td>\n",
       "      <td>0.0</td>\n",
       "      <td>0.0</td>\n",
       "      <td>0.0</td>\n",
       "      <td>0.0</td>\n",
       "      <td>0.0</td>\n",
       "      <td>0.0</td>\n",
       "      <td>0.0</td>\n",
       "      <td>0.0</td>\n",
       "      <td>0.0</td>\n",
       "      <td>1</td>\n",
       "    </tr>\n",
       "    <tr>\n",
       "      <th>2</th>\n",
       "      <td>6</td>\n",
       "      <td>0</td>\n",
       "      <td>0</td>\n",
       "      <td>0</td>\n",
       "      <td>0</td>\n",
       "      <td>0</td>\n",
       "      <td>0</td>\n",
       "      <td>0</td>\n",
       "      <td>5</td>\n",
       "      <td>0</td>\n",
       "      <td>...</td>\n",
       "      <td>0.0</td>\n",
       "      <td>0.0</td>\n",
       "      <td>30.0</td>\n",
       "      <td>43.0</td>\n",
       "      <td>0.0</td>\n",
       "      <td>0.0</td>\n",
       "      <td>0.0</td>\n",
       "      <td>0.0</td>\n",
       "      <td>0.0</td>\n",
       "      <td>2</td>\n",
       "    </tr>\n",
       "  </tbody>\n",
       "</table>\n",
       "<p>3 rows × 786 columns</p>\n",
       "</div>"
      ],
      "text/plain": [
       "   label  pixel1  pixel2  pixel3  pixel4  pixel5  pixel6  pixel7  pixel8  \\\n",
       "0      2       0       0       0       0       0       0       0       0   \n",
       "1      9       0       0       0       0       0       0       0       0   \n",
       "2      6       0       0       0       0       0       0       0       5   \n",
       "\n",
       "   pixel9  ...  pixel776  pixel777  pixel778  pixel779  pixel780  pixel781  \\\n",
       "0       0  ...       0.0       0.0       0.0       0.0       0.0       0.0   \n",
       "1       0  ...       0.0       0.0       0.0       0.0       0.0       0.0   \n",
       "2       0  ...       0.0       0.0      30.0      43.0       0.0       0.0   \n",
       "\n",
       "   pixel782  pixel783  pixel784  Id  \n",
       "0       0.0       0.0       0.0   0  \n",
       "1       0.0       0.0       0.0   1  \n",
       "2       0.0       0.0       0.0   2  \n",
       "\n",
       "[3 rows x 786 columns]"
      ]
     },
     "execution_count": 17,
     "metadata": {},
     "output_type": "execute_result"
    }
   ],
   "source": [
    "# Загружаем данные для обучения\n",
    "train_df = pd.read_csv('data/fmnist_train.csv', sep = ',')\n",
    "train_df.head(3)"
   ]
  },
  {
   "cell_type": "code",
   "execution_count": 18,
   "id": "0fb1629b-5d15-40d2-878a-47eb64bb6e8d",
   "metadata": {},
   "outputs": [
    {
     "data": {
      "text/html": [
       "<div>\n",
       "<style scoped>\n",
       "    .dataframe tbody tr th:only-of-type {\n",
       "        vertical-align: middle;\n",
       "    }\n",
       "\n",
       "    .dataframe tbody tr th {\n",
       "        vertical-align: top;\n",
       "    }\n",
       "\n",
       "    .dataframe thead th {\n",
       "        text-align: right;\n",
       "    }\n",
       "</style>\n",
       "<table border=\"1\" class=\"dataframe\">\n",
       "  <thead>\n",
       "    <tr style=\"text-align: right;\">\n",
       "      <th></th>\n",
       "      <th>pixel1</th>\n",
       "      <th>pixel2</th>\n",
       "      <th>pixel3</th>\n",
       "      <th>pixel4</th>\n",
       "      <th>pixel5</th>\n",
       "      <th>pixel6</th>\n",
       "      <th>pixel7</th>\n",
       "      <th>pixel8</th>\n",
       "      <th>pixel9</th>\n",
       "      <th>pixel10</th>\n",
       "      <th>...</th>\n",
       "      <th>pixel776</th>\n",
       "      <th>pixel777</th>\n",
       "      <th>pixel778</th>\n",
       "      <th>pixel779</th>\n",
       "      <th>pixel780</th>\n",
       "      <th>pixel781</th>\n",
       "      <th>pixel782</th>\n",
       "      <th>pixel783</th>\n",
       "      <th>pixel784</th>\n",
       "      <th>Id</th>\n",
       "    </tr>\n",
       "  </thead>\n",
       "  <tbody>\n",
       "    <tr>\n",
       "      <th>0</th>\n",
       "      <td>0</td>\n",
       "      <td>0</td>\n",
       "      <td>0</td>\n",
       "      <td>0</td>\n",
       "      <td>0</td>\n",
       "      <td>0</td>\n",
       "      <td>0</td>\n",
       "      <td>9</td>\n",
       "      <td>8</td>\n",
       "      <td>0</td>\n",
       "      <td>...</td>\n",
       "      <td>87</td>\n",
       "      <td>56</td>\n",
       "      <td>0</td>\n",
       "      <td>0</td>\n",
       "      <td>0</td>\n",
       "      <td>0</td>\n",
       "      <td>0</td>\n",
       "      <td>0</td>\n",
       "      <td>0</td>\n",
       "      <td>0</td>\n",
       "    </tr>\n",
       "    <tr>\n",
       "      <th>1</th>\n",
       "      <td>0</td>\n",
       "      <td>0</td>\n",
       "      <td>0</td>\n",
       "      <td>0</td>\n",
       "      <td>0</td>\n",
       "      <td>0</td>\n",
       "      <td>0</td>\n",
       "      <td>0</td>\n",
       "      <td>0</td>\n",
       "      <td>0</td>\n",
       "      <td>...</td>\n",
       "      <td>0</td>\n",
       "      <td>0</td>\n",
       "      <td>0</td>\n",
       "      <td>0</td>\n",
       "      <td>0</td>\n",
       "      <td>0</td>\n",
       "      <td>0</td>\n",
       "      <td>0</td>\n",
       "      <td>0</td>\n",
       "      <td>1</td>\n",
       "    </tr>\n",
       "    <tr>\n",
       "      <th>2</th>\n",
       "      <td>0</td>\n",
       "      <td>0</td>\n",
       "      <td>0</td>\n",
       "      <td>0</td>\n",
       "      <td>0</td>\n",
       "      <td>0</td>\n",
       "      <td>14</td>\n",
       "      <td>53</td>\n",
       "      <td>99</td>\n",
       "      <td>17</td>\n",
       "      <td>...</td>\n",
       "      <td>0</td>\n",
       "      <td>0</td>\n",
       "      <td>0</td>\n",
       "      <td>63</td>\n",
       "      <td>53</td>\n",
       "      <td>31</td>\n",
       "      <td>0</td>\n",
       "      <td>0</td>\n",
       "      <td>0</td>\n",
       "      <td>2</td>\n",
       "    </tr>\n",
       "  </tbody>\n",
       "</table>\n",
       "<p>3 rows × 785 columns</p>\n",
       "</div>"
      ],
      "text/plain": [
       "   pixel1  pixel2  pixel3  pixel4  pixel5  pixel6  pixel7  pixel8  pixel9  \\\n",
       "0       0       0       0       0       0       0       0       9       8   \n",
       "1       0       0       0       0       0       0       0       0       0   \n",
       "2       0       0       0       0       0       0      14      53      99   \n",
       "\n",
       "   pixel10  ...  pixel776  pixel777  pixel778  pixel779  pixel780  pixel781  \\\n",
       "0        0  ...        87        56         0         0         0         0   \n",
       "1        0  ...         0         0         0         0         0         0   \n",
       "2       17  ...         0         0         0        63        53        31   \n",
       "\n",
       "   pixel782  pixel783  pixel784  Id  \n",
       "0         0         0         0   0  \n",
       "1         0         0         0   1  \n",
       "2         0         0         0   2  \n",
       "\n",
       "[3 rows x 785 columns]"
      ]
     },
     "execution_count": 18,
     "metadata": {},
     "output_type": "execute_result"
    }
   ],
   "source": [
    "# Загружаем данные для тетсирования\n",
    "test_df = pd.read_csv('data/fmnist_test.csv', sep = ',')\n",
    "test_df.head(3)"
   ]
  },
  {
   "cell_type": "code",
   "execution_count": 19,
   "id": "658786ab-1b65-4e9d-9d7b-fd709046edd5",
   "metadata": {},
   "outputs": [
    {
     "data": {
      "text/html": [
       "<div>\n",
       "<style scoped>\n",
       "    .dataframe tbody tr th:only-of-type {\n",
       "        vertical-align: middle;\n",
       "    }\n",
       "\n",
       "    .dataframe tbody tr th {\n",
       "        vertical-align: top;\n",
       "    }\n",
       "\n",
       "    .dataframe thead th {\n",
       "        text-align: right;\n",
       "    }\n",
       "</style>\n",
       "<table border=\"1\" class=\"dataframe\">\n",
       "  <thead>\n",
       "    <tr style=\"text-align: right;\">\n",
       "      <th></th>\n",
       "      <th>Id</th>\n",
       "      <th>label</th>\n",
       "    </tr>\n",
       "  </thead>\n",
       "  <tbody>\n",
       "    <tr>\n",
       "      <th>0</th>\n",
       "      <td>0</td>\n",
       "      <td>0</td>\n",
       "    </tr>\n",
       "    <tr>\n",
       "      <th>1</th>\n",
       "      <td>1</td>\n",
       "      <td>0</td>\n",
       "    </tr>\n",
       "    <tr>\n",
       "      <th>2</th>\n",
       "      <td>2</td>\n",
       "      <td>0</td>\n",
       "    </tr>\n",
       "  </tbody>\n",
       "</table>\n",
       "</div>"
      ],
      "text/plain": [
       "   Id  label\n",
       "0   0      0\n",
       "1   1      0\n",
       "2   2      0"
      ]
     },
     "execution_count": 19,
     "metadata": {},
     "output_type": "execute_result"
    }
   ],
   "source": [
    "# Загружаем данные с примером результата\n",
    "sample_submission = pd.read_csv('data/sample_submission.csv', sep = ',')\n",
    "sample_submission.head(3)"
   ]
  },
  {
   "cell_type": "markdown",
   "id": "6f5e4cad-5780-4355-9a0e-6d1110f345c2",
   "metadata": {},
   "source": [
    "### Проверка на наличие NaN"
   ]
  },
  {
   "cell_type": "code",
   "execution_count": 21,
   "id": "c732bb9f-285c-4bf3-9dbb-e26c42f693f5",
   "metadata": {},
   "outputs": [
    {
     "name": "stdout",
     "output_type": "stream",
     "text": [
      "NaN в обучающих данных: 424\n"
     ]
    }
   ],
   "source": [
    "print(f\"NaN в обучающих данных: {train_df.isnull().sum().sum()}\")"
   ]
  },
  {
   "cell_type": "code",
   "execution_count": 22,
   "id": "9b39cc7a-6307-486b-b4e4-84fb1bc33255",
   "metadata": {},
   "outputs": [
    {
     "name": "stdout",
     "output_type": "stream",
     "text": [
      "NaN в тестовых  данных: 0\n"
     ]
    }
   ],
   "source": [
    "print(f\"NaN в тестовых  данных: {test_df.isnull().sum().sum()}\")"
   ]
  },
  {
   "cell_type": "markdown",
   "id": "c02cab73-ac8f-48e7-8343-66ca3d90ff37",
   "metadata": {},
   "source": [
    "#### Обработка Nan"
   ]
  },
  {
   "cell_type": "code",
   "execution_count": 24,
   "id": "9aae8eeb-c662-4676-8382-602abced7252",
   "metadata": {},
   "outputs": [
    {
     "name": "stdout",
     "output_type": "stream",
     "text": [
      "Распределение NaN по столбцам:\n",
      " pixel361    1\n",
      "pixel362    1\n",
      "pixel363    1\n",
      "pixel364    1\n",
      "pixel365    1\n",
      "           ..\n",
      "pixel780    1\n",
      "pixel781    1\n",
      "pixel782    1\n",
      "pixel783    1\n",
      "pixel784    1\n",
      "Length: 424, dtype: int64\n"
     ]
    }
   ],
   "source": [
    "# Смотрим на распределение NaN по столбцам\n",
    "nan_columns = train_df.isnull().sum(axis = 0)\n",
    "print(\"Распределение NaN по столбцам:\\n\", nan_columns[nan_columns > 0])"
   ]
  },
  {
   "cell_type": "code",
   "execution_count": 25,
   "id": "ff947bb9-c98f-4977-b3d8-a59f4577efe8",
   "metadata": {},
   "outputs": [
    {
     "name": "stdout",
     "output_type": "stream",
     "text": [
      "Распределение NaN по строкам:\n",
      " 17039    424\n",
      "dtype: int64\n"
     ]
    }
   ],
   "source": [
    "# Смотрим на распределение NaN по строкам\n",
    "nan_s = train_df.isnull().sum(axis = 1)\n",
    "print(\"Распределение NaN по строкам:\\n\", nan_s[nan_s > 0])"
   ]
  },
  {
   "cell_type": "markdown",
   "id": "3fce6432-7f12-40d8-a9ad-70b3a8625839",
   "metadata": {},
   "source": [
    "##### Вариант удаление пропусков"
   ]
  },
  {
   "cell_type": "code",
   "execution_count": 27,
   "id": "4631d6c0-ad60-4aa7-8952-32227d2fd095",
   "metadata": {},
   "outputs": [
    {
     "name": "stdout",
     "output_type": "stream",
     "text": [
      "Удалено строк: 1\n"
     ]
    }
   ],
   "source": [
    "# Удалим строки с NaN\n",
    "train_df_cleaned = train_df.dropna(axis=0, how='any')\n",
    "\n",
    "# Проверим новый размер данных\n",
    "print(f\"Удалено строк: {len(train_df) - len(train_df_cleaned)}\")"
   ]
  },
  {
   "cell_type": "markdown",
   "id": "8590cf26-6ecf-497f-aa94-9be4b6ce8ef7",
   "metadata": {},
   "source": [
    "##### Вариант обработки пропусков"
   ]
  },
  {
   "cell_type": "code",
   "execution_count": 29,
   "id": "512eb99a-d2d7-4574-93fc-345cf2f0d1f1",
   "metadata": {},
   "outputs": [],
   "source": [
    "# Заполним NaN медианным значением пикселя\n",
    "pixel_columns = [col for col in train_df.columns if 'pixel' in col]\n",
    "train_df_filled = train_df.copy()\n",
    "train_df_filled[pixel_columns] = train_df[pixel_columns].fillna(\n",
    "    train_df[pixel_columns].median()\n",
    ")"
   ]
  },
  {
   "cell_type": "code",
   "execution_count": 30,
   "id": "0c46f201-4c1c-4d24-983a-657a170ee680",
   "metadata": {},
   "outputs": [],
   "source": [
    "# Убедимся, что NaN устранены\n",
    "assert train_df_cleaned.isna().sum().sum() == 0  # Для варианта с удалением\n",
    "assert train_df_filled.isna().sum().sum() == 0  # Для варианта с заполнением"
   ]
  },
  {
   "cell_type": "markdown",
   "id": "674a1971-e544-4f22-945a-49a328ad43ff",
   "metadata": {},
   "source": [
    "### Строим функицю предобработки"
   ]
  },
  {
   "cell_type": "code",
   "execution_count": 32,
   "id": "f5218da0-8fd4-4ce8-8981-70131a965f30",
   "metadata": {},
   "outputs": [],
   "source": [
    "# Строим функицю предобработки\n",
    "def preprocess_data(df, is_train=True):\n",
    "    df = df.dropna(axis=0, how='any').reset_index(drop=True)\n",
    "\n",
    "    if is_train:\n",
    "        y = df['label'].values\n",
    "        df = df.drop(columns=['label', 'Id']) \n",
    "    else:\n",
    "        y = None\n",
    "        df = df.drop(columns=['Id'])\n",
    "\n",
    "    X = df.values.astype('float32') / 255.0\n",
    "    X = X.reshape(-1, 28, 28, 1)\n",
    "\n",
    "    return X, y"
   ]
  },
  {
   "cell_type": "markdown",
   "id": "a25f91a6-91e1-45ae-8d6e-b1176694d777",
   "metadata": {},
   "source": [
    "### Визуализируем данные"
   ]
  },
  {
   "cell_type": "code",
   "execution_count": 34,
   "id": "572ce041-e9ef-4c90-8dd8-cfb7c473d5ea",
   "metadata": {},
   "outputs": [],
   "source": [
    "# Пишем функцию для визуализации данныхх из датасета\n",
    "def visualize_fashionmnist(data, num_images=10, labels_map=None, figsize=(12, 12), \n",
    "                          random_seed=None, start_index=0):\n",
    "    \"\"\"\n",
    "    Визуализирует изображения из датасета Fashion-MNIST\n",
    "    \n",
    "    Args:\n",
    "        data (DataFrame): Датафрейм с данными\n",
    "        num_images (int): Количество изображений для отображения (макс. 25)\n",
    "        labels_map (dict): Словарь соответствия меток классов и названий\n",
    "        figsize (tuple): Размер фигуры\n",
    "        random_seed (int): Seed для воспроизводимости случайного выбора\n",
    "        start_index (int): Начальный индекс для выбора изображений (если не используется случайный выбор)\n",
    "    \"\"\"\n",
    "    \n",
    "    if labels_map is None:\n",
    "        labels_map = {\n",
    "            0: \"T-shirt/top\", 1: \"Trouser\", 2: \"Pullover\", 3: \"Dress\",\n",
    "            4: \"Coat\", 5: \"Sandal\", 6: \"Shirt\", 7: \"Sneaker\", 8: \"Bag\", 9: \"Ankle boot\"\n",
    "        }\n",
    "\n",
    "    # Ограничиваем максимальное количество изображений\n",
    "    num_images = min(num_images, 25)\n",
    "\n",
    "    # Создаем сетку для отображения\n",
    "    rows = int(np.ceil(num_images / 5))\n",
    "    cols = min(num_images, 5)\n",
    "\n",
    "    plt.figure(figsize=figsize)\n",
    "\n",
    "    # Выбираем случайные или последовательные индексы\n",
    "    if random_seed is not None:\n",
    "        np.random.seed(random_seed)\n",
    "        indices = np.random.choice(len(data), num_images, replace=False)\n",
    "    else:\n",
    "        indices = range(start_index, start_index + num_images)\n",
    "\n",
    "    for i, idx in enumerate(indices):\n",
    "        if 'label' in data.columns:\n",
    "            label = data.iloc[idx]['label']\n",
    "            pixels = data.iloc[idx].drop(['label', 'Id']).values\n",
    "        else:\n",
    "            label = \"Unknown\"\n",
    "            pixels = data.iloc[idx].drop(['Id']).values\n",
    "\n",
    "        # Преобразуем в изображение\n",
    "        img = pixels.reshape(28, 28).astype(np.uint8)\n",
    "\n",
    "        # Создаем subplot\n",
    "        plt.subplot(rows, cols, i+1)\n",
    "        plt.imshow(img, cmap='gray')\n",
    "        plt.title(f\"Class: {label}\\n{labels_map.get(label, 'Unknown')}\", fontsize=9)\n",
    "        plt.axis('off')\n",
    "    \n",
    "    plt.tight_layout()\n",
    "    plt.show()"
   ]
  },
  {
   "cell_type": "code",
   "execution_count": 35,
   "id": "bc2727e4-f6f9-4e28-8fe4-b954797803de",
   "metadata": {},
   "outputs": [
    {
     "data": {
      "image/png": "[encoded data removed]",
      "text/plain": [
       "<Figure size 1000x800 with 12 Axes>"
      ]
     },
     "metadata": {},
     "output_type": "display_data"
    }
   ],
   "source": [
    "# Для обучающих данных с метками\n",
    "visualize_fashionmnist(\n",
    "    data=train_df,\n",
    "    num_images=12,\n",
    "    random_seed=42,\n",
    "    figsize=(10, 8)\n",
    ")"
   ]
  },
  {
   "cell_type": "code",
   "execution_count": 36,
   "id": "729bbac7-aa53-467f-86c7-a03f238e52d3",
   "metadata": {},
   "outputs": [
    {
     "data": {
      "image/png": "[encoded data removed]",
      "text/plain": [
       "<Figure size 900x900 with 10 Axes>"
      ]
     },
     "metadata": {},
     "output_type": "display_data"
    }
   ],
   "source": [
    "# Для тестовых данных без меток\n",
    "visualize_fashionmnist(\n",
    "    data=test_df,\n",
    "    num_images=10,\n",
    "    figsize=(9, 9)\n",
    ")"
   ]
  },
  {
   "cell_type": "markdown",
   "id": "64ee9e54-9b6b-406d-8f86-21e4ed0ded3b",
   "metadata": {},
   "source": [
    "### Предобработка и разделение"
   ]
  },
  {
   "cell_type": "code",
   "execution_count": 38,
   "id": "7cb568a2-ed63-42b4-9e5c-25734da151e3",
   "metadata": {},
   "outputs": [],
   "source": [
    "# Предобработка данных\n",
    "X_train, y_train = preprocess_data(train_df)\n",
    "X_test, _ = preprocess_data(test_df, is_train=False)\n",
    "\n",
    "# Разделение на тренировочную и валидационную выборки\n",
    "X_train, X_val, y_train, y_val = train_test_split(X_train, y_train, test_size=0.2, random_state=42)"
   ]
  },
  {
   "cell_type": "markdown",
   "id": "28815cd2-1029-4420-b909-c22e4002f51d",
   "metadata": {},
   "source": [
    "### Разработка модели"
   ]
  },
  {
   "cell_type": "code",
   "execution_count": 40,
   "id": "509c40e3-8757-468d-a578-231cf3bb0ebc",
   "metadata": {},
   "outputs": [
    {
     "name": "stdout",
     "output_type": "stream",
     "text": [
      "WARNING:tensorflow:From C:\\Users\\max-z\\AppData\\Roaming\\Python\\Python311\\site-packages\\keras\\src\\backend.py:873: The name tf.get_default_graph is deprecated. Please use tf.compat.v1.get_default_graph instead.\n",
      "\n",
      "WARNING:tensorflow:From C:\\Users\\max-z\\AppData\\Roaming\\Python\\Python311\\site-packages\\keras\\src\\layers\\pooling\\max_pooling2d.py:161: The name tf.nn.max_pool is deprecated. Please use tf.nn.max_pool2d instead.\n",
      "\n"
     ]
    }
   ],
   "source": [
    "# Строим модель\n",
    "model = keras.Sequential([\n",
    "    # Conv + Maxpooling + Dropout\n",
    "    layers.Conv2D(32, (4,4), padding='same', activation='relu', input_shape=(28,28,1)),\n",
    "    # layers.BatchNormalization(),\n",
    "    layers.MaxPooling2D((2,2)),\n",
    "    layers.Dropout(0.1),\n",
    "\n",
    "    # Conv + Maxpooling + Dropout\n",
    "    layers.Conv2D(64, (4,4), activation='relu'),\n",
    "    # layers.BatchNormalization(),\n",
    "    layers.MaxPooling2D((2,2)),\n",
    "    layers.Dropout(0.3),\n",
    "    \n",
    "    # layers.Conv2D(128, (3,3), activation='relu'),\n",
    "    # layers.BatchNormalization(),\n",
    "    \n",
    "    layers.Flatten(),\n",
    "    layers.Dense(256, activation='relu'),\n",
    "    layers.BatchNormalization(),\n",
    "    layers.Dropout(0.5),\n",
    "\n",
    "    layers.Dense(64, activation='relu'),\n",
    "    layers.BatchNormalization(),\n",
    "    # layers.Dropout(0.5),\n",
    "\n",
    "    layers.Dense(10, activation='softmax')\n",
    "])"
   ]
  },
  {
   "cell_type": "code",
   "execution_count": 41,
   "id": "2dc73969-bf4f-43e9-a917-9c28c2850b45",
   "metadata": {},
   "outputs": [],
   "source": [
    "# def residual_block(x, filters_in, filters_out):\n",
    "#     # Добавляем свертку 1x1 в shortcut при изменении количества фильтров\n",
    "#     shortcut = x\n",
    "#     if filters_in != filters_out:\n",
    "#         shortcut = layers.Conv2D(filters_out, (1,1), padding='same')(shortcut)\n",
    "#         shortcut = layers.BatchNormalization()(shortcut)\n",
    "    \n",
    "#     # Основной путь\n",
    "#     x = layers.Conv2D(filters_out, (3,3), padding='same')(x)\n",
    "#     x = layers.BatchNormalization()(x)\n",
    "#     x = layers.Activation('relu')(x)\n",
    "#     x = layers.Conv2D(filters_out, (3,3), padding='same')(x)\n",
    "#     x = layers.BatchNormalization()(x)\n",
    "    \n",
    "#     # Сложение с shortcut\n",
    "#     x = layers.Add()([shortcut, x])\n",
    "#     x = layers.Activation('relu')(x)\n",
    "#     return x\n",
    "\n",
    "# # Полная архитектура с исправленными residual блоками\n",
    "# inputs = keras.Input(shape=(28,28,1))\n",
    "# x = layers.Conv2D(32, (3,3), activation='relu')(inputs)\n",
    "# x = layers.MaxPooling2D((2,2))(x)  # Размер 13x13\n",
    "\n",
    "# x = residual_block(x, filters_in=32, filters_out=32)  # Сохраняем размерность\n",
    "# x = layers.MaxPooling2D((2,2))(x)  # Размер 6x6\n",
    "\n",
    "# x = residual_block(x, filters_in=32, filters_out=64)  # Изменяем фильтры через shortcut\n",
    "# x = layers.GlobalAveragePooling2D()(x)\n",
    "# x = layers.Dense(128, activation='relu')(x)\n",
    "# outputs = layers.Dense(10, activation='softmax')(x)\n",
    "\n",
    "# model = keras.Model(inputs=inputs, outputs=outputs)"
   ]
  },
  {
   "cell_type": "code",
   "execution_count": 42,
   "id": "fc2654d5-540f-41b5-8cf5-5acff54375c9",
   "metadata": {},
   "outputs": [],
   "source": [
    "# Определяем оптимайзер для модеил\n",
    "optimizer = Adam()"
   ]
  },
  {
   "cell_type": "code",
   "execution_count": 43,
   "id": "e69a3b34-029e-4028-a8b4-721d92c0f175",
   "metadata": {},
   "outputs": [],
   "source": [
    "# Компилируем модель\n",
    "model.compile(\n",
    "    # optimizer = \"adam\",\n",
    "    optimizer = optimizer,\n",
    "    loss = 'sparse_categorical_crossentropy',\n",
    "    metrics=['accuracy']\n",
    ")"
   ]
  },
  {
   "cell_type": "code",
   "execution_count": 44,
   "id": "8b12016e-338c-45c8-9ee5-180ee6d3bd40",
   "metadata": {},
   "outputs": [
    {
     "name": "stdout",
     "output_type": "stream",
     "text": [
      "Model: \"sequential\"\n",
      "_________________________________________________________________\n",
      " Layer (type)                Output Shape              Param #   \n",
      "=================================================================\n",
      " conv2d (Conv2D)             (None, 28, 28, 32)        544       \n",
      "                                                                 \n",
      " max_pooling2d (MaxPooling2  (None, 14, 14, 32)        0         \n",
      " D)                                                              \n",
      "                                                                 \n",
      " dropout (Dropout)           (None, 14, 14, 32)        0         \n",
      "                                                                 \n",
      " conv2d_1 (Conv2D)           (None, 11, 11, 64)        32832     \n",
      "                                                                 \n",
      " max_pooling2d_1 (MaxPoolin  (None, 5, 5, 64)          0         \n",
      " g2D)                                                            \n",
      "                                                                 \n",
      " dropout_1 (Dropout)         (None, 5, 5, 64)          0         \n",
      "                                                                 \n",
      " flatten (Flatten)           (None, 1600)              0         \n",
      "                                                                 \n",
      " dense (Dense)               (None, 256)               409856    \n",
      "                                                                 \n",
      " batch_normalization (Batch  (None, 256)               1024      \n",
      " Normalization)                                                  \n",
      "                                                                 \n",
      " dropout_2 (Dropout)         (None, 256)               0         \n",
      "                                                                 \n",
      " dense_1 (Dense)             (None, 64)                16448     \n",
      "                                                                 \n",
      " batch_normalization_1 (Bat  (None, 64)                256       \n",
      " chNormalization)                                                \n",
      "                                                                 \n",
      " dense_2 (Dense)             (None, 10)                650       \n",
      "                                                                 \n",
      "=================================================================\n",
      "Total params: 461610 (1.76 MB)\n",
      "Trainable params: 460970 (1.76 MB)\n",
      "Non-trainable params: 640 (2.50 KB)\n",
      "_________________________________________________________________\n"
     ]
    }
   ],
   "source": [
    "# Выводим сводное представление модели\n",
    "model.summary()"
   ]
  },
  {
   "cell_type": "code",
   "execution_count": 45,
   "id": "7b463c3e-5475-434a-86b2-3d41e915466f",
   "metadata": {},
   "outputs": [
    {
     "name": "stdout",
     "output_type": "stream",
     "text": [
      "Epoch 1/20\n",
      "WARNING:tensorflow:From C:\\Users\\max-z\\AppData\\Roaming\\Python\\Python311\\site-packages\\keras\\src\\utils\\tf_utils.py:492: The name tf.ragged.RaggedTensorValue is deprecated. Please use tf.compat.v1.ragged.RaggedTensorValue instead.\n",
      "\n",
      "WARNING:tensorflow:From C:\\Users\\max-z\\AppData\\Roaming\\Python\\Python311\\site-packages\\keras\\src\\engine\\base_layer_utils.py:384: The name tf.executing_eagerly_outside_functions is deprecated. Please use tf.compat.v1.executing_eagerly_outside_functions instead.\n",
      "\n",
      "54/54 [==============================] - 5s 60ms/step - loss: 1.0067 - accuracy: 0.6472 - val_loss: 1.7239 - val_accuracy: 0.6382\n",
      "Epoch 2/20\n",
      "54/54 [==============================] - 3s 54ms/step - loss: 0.5419 - accuracy: 0.8062 - val_loss: 1.5844 - val_accuracy: 0.5895\n",
      "Epoch 3/20\n",
      "54/54 [==============================] - 3s 54ms/step - loss: 0.4523 - accuracy: 0.8395 - val_loss: 1.3558 - val_accuracy: 0.7142\n",
      "Epoch 4/20\n",
      "54/54 [==============================] - 3s 53ms/step - loss: 0.3957 - accuracy: 0.8583 - val_loss: 1.1363 - val_accuracy: 0.7923\n",
      "Epoch 5/20\n",
      "54/54 [==============================] - 3s 62ms/step - loss: 0.3629 - accuracy: 0.8709 - val_loss: 0.8971 - val_accuracy: 0.8169\n",
      "Epoch 6/20\n",
      "54/54 [==============================] - 3s 57ms/step - loss: 0.3466 - accuracy: 0.8765 - val_loss: 0.6972 - val_accuracy: 0.8706\n",
      "Epoch 7/20\n",
      "54/54 [==============================] - 3s 59ms/step - loss: 0.3248 - accuracy: 0.8825 - val_loss: 0.5139 - val_accuracy: 0.8630\n",
      "Epoch 8/20\n",
      "54/54 [==============================] - 3s 56ms/step - loss: 0.3100 - accuracy: 0.8862 - val_loss: 0.4049 - val_accuracy: 0.8888\n",
      "Epoch 9/20\n",
      "54/54 [==============================] - 3s 54ms/step - loss: 0.2935 - accuracy: 0.8931 - val_loss: 0.3381 - val_accuracy: 0.8935\n",
      "Epoch 10/20\n",
      "54/54 [==============================] - 3s 62ms/step - loss: 0.2815 - accuracy: 0.8977 - val_loss: 0.3799 - val_accuracy: 0.8574\n",
      "Epoch 11/20\n",
      "54/54 [==============================] - 3s 57ms/step - loss: 0.2774 - accuracy: 0.8970 - val_loss: 0.3013 - val_accuracy: 0.8920\n",
      "Epoch 12/20\n",
      "54/54 [==============================] - 3s 55ms/step - loss: 0.2589 - accuracy: 0.9033 - val_loss: 0.2828 - val_accuracy: 0.8976\n",
      "Epoch 13/20\n",
      "54/54 [==============================] - 3s 54ms/step - loss: 0.2445 - accuracy: 0.9097 - val_loss: 0.2927 - val_accuracy: 0.8929\n",
      "Epoch 14/20\n",
      "54/54 [==============================] - 3s 52ms/step - loss: 0.2399 - accuracy: 0.9090 - val_loss: 0.2945 - val_accuracy: 0.8888\n",
      "Epoch 15/20\n",
      "54/54 [==============================] - 3s 55ms/step - loss: 0.2272 - accuracy: 0.9144 - val_loss: 0.2980 - val_accuracy: 0.8917\n",
      "Epoch 16/20\n",
      "54/54 [==============================] - 3s 63ms/step - loss: 0.2211 - accuracy: 0.9176 - val_loss: 0.2844 - val_accuracy: 0.8985\n",
      "Epoch 17/20\n",
      "54/54 [==============================] - 3s 59ms/step - loss: 0.2211 - accuracy: 0.9186 - val_loss: 0.2818 - val_accuracy: 0.8973\n",
      "Epoch 18/20\n",
      "54/54 [==============================] - 3s 60ms/step - loss: 0.2090 - accuracy: 0.9234 - val_loss: 0.2890 - val_accuracy: 0.9005\n",
      "Epoch 19/20\n",
      "54/54 [==============================] - 3s 56ms/step - loss: 0.2083 - accuracy: 0.9200 - val_loss: 0.3042 - val_accuracy: 0.8885\n",
      "Epoch 20/20\n",
      "54/54 [==============================] - 3s 54ms/step - loss: 0.2085 - accuracy: 0.9210 - val_loss: 0.2909 - val_accuracy: 0.8996\n"
     ]
    }
   ],
   "source": [
    "# Первичное обучение модели\n",
    "history_1 = model.fit(\n",
    "    X_train, \n",
    "    y_train,\n",
    "    validation_data = (X_val, y_val),\n",
    "    epochs = 20,\n",
    "    batch_size = 256,\n",
    "    verbose = 1,\n",
    ")"
   ]
  },
  {
   "cell_type": "code",
   "execution_count": 46,
   "id": "90c2ce5e-4bb2-411c-94bf-8c0347559047",
   "metadata": {},
   "outputs": [],
   "source": [
    "# Подготовка для аугментауии\n",
    "datagen = ImageDataGenerator(\n",
    "    rotation_range=15,      # Поворот\n",
    "    width_shift_range=0.15, # Сдвиг по ширине \n",
    "    height_shift_range=0.15,# Сдвиг по высоте \n",
    "    zoom_range=0.15,        # Зум \n",
    "    horizontal_flip=True,   # Горизонтальное отражение\n",
    "    fill_mode='nearest'     # Заполнение пикселей при трансформациях\n",
    ")"
   ]
  },
  {
   "cell_type": "code",
   "execution_count": 47,
   "id": "e001f189-b15f-4a9f-996f-9dda5d6dabdd",
   "metadata": {},
   "outputs": [],
   "source": [
    "# Подгтовка аугментированнх данных для обучения\n",
    "batch_size = 128\n",
    "\n",
    "# Для обучающих данных\n",
    "train_generator = datagen.flow(\n",
    "    X_train, \n",
    "    y_train,\n",
    "    batch_size=batch_size,\n",
    "    shuffle=True\n",
    ")\n",
    "\n",
    "# Для валидационных данных (без аугментации)\n",
    "val_datagen = ImageDataGenerator()\n",
    "val_generator = val_datagen.flow(\n",
    "    X_val,\n",
    "    y_val,\n",
    "    batch_size=batch_size,\n",
    "    shuffle=False\n",
    ")"
   ]
  },
  {
   "cell_type": "code",
   "execution_count": 55,
   "id": "3beeeee2-21ee-492c-a741-5be683be1686",
   "metadata": {},
   "outputs": [
    {
     "name": "stdout",
     "output_type": "stream",
     "text": [
      "Epoch 1/10\n",
      "106/106 [==============================] - 6s 46ms/step - loss: 0.9334 - accuracy: 0.6751 - val_loss: 0.4371 - val_accuracy: 0.8398\n",
      "Epoch 2/10\n",
      "106/106 [==============================] - 5s 47ms/step - loss: 0.6952 - accuracy: 0.7422 - val_loss: 0.3942 - val_accuracy: 0.8498\n",
      "Epoch 3/10\n",
      "106/106 [==============================] - 5s 43ms/step - loss: 0.6413 - accuracy: 0.7611 - val_loss: 0.4092 - val_accuracy: 0.8425\n",
      "Epoch 4/10\n",
      "106/106 [==============================] - 5s 44ms/step - loss: 0.6048 - accuracy: 0.7709 - val_loss: 0.4425 - val_accuracy: 0.8374\n",
      "Epoch 5/10\n",
      "106/106 [==============================] - 5s 44ms/step - loss: 0.5798 - accuracy: 0.7833 - val_loss: 0.3981 - val_accuracy: 0.8489\n",
      "Epoch 6/10\n",
      "106/106 [==============================] - 5s 44ms/step - loss: 0.5630 - accuracy: 0.7891 - val_loss: 0.3764 - val_accuracy: 0.8519\n",
      "Epoch 7/10\n",
      "106/106 [==============================] - 5s 45ms/step - loss: 0.5615 - accuracy: 0.7915 - val_loss: 0.3903 - val_accuracy: 0.8510\n",
      "Epoch 8/10\n",
      "106/106 [==============================] - 5s 45ms/step - loss: 0.5466 - accuracy: 0.7995 - val_loss: 0.3560 - val_accuracy: 0.8603\n",
      "Epoch 9/10\n",
      "106/106 [==============================] - 5s 44ms/step - loss: 0.5325 - accuracy: 0.8019 - val_loss: 0.3883 - val_accuracy: 0.8528\n",
      "Epoch 10/10\n",
      "106/106 [==============================] - 5s 43ms/step - loss: 0.5300 - accuracy: 0.8016 - val_loss: 0.3617 - val_accuracy: 0.8606\n"
     ]
    }
   ],
   "source": [
    "# Доп. обучение модели на аугментированных данных\n",
    "history_2 = model.fit(\n",
    "    train_generator,\n",
    "    steps_per_epoch=len(X_train) // batch_size, \n",
    "    epochs=10,\n",
    "    validation_data=val_generator,\n",
    "    validation_steps=len(X_val) // batch_size,\n",
    "    verbose=1\n",
    ")"
   ]
  },
  {
   "cell_type": "code",
   "execution_count": 56,
   "id": "988dd42b-3cfb-4e5b-847c-aeb7b194c582",
   "metadata": {},
   "outputs": [
    {
     "name": "stdout",
     "output_type": "stream",
     "text": [
      "Epoch 1/30\n",
      "107/107 [==============================] - 4s 36ms/step - loss: 0.3325 - accuracy: 0.8768 - val_loss: 0.2982 - val_accuracy: 0.8888\n",
      "Epoch 2/30\n",
      "107/107 [==============================] - 3s 30ms/step - loss: 0.2758 - accuracy: 0.8974 - val_loss: 0.2933 - val_accuracy: 0.8894\n",
      "Epoch 3/30\n",
      "107/107 [==============================] - 3s 30ms/step - loss: 0.2557 - accuracy: 0.9054 - val_loss: 0.2804 - val_accuracy: 0.8929\n",
      "Epoch 4/30\n",
      "107/107 [==============================] - 3s 29ms/step - loss: 0.2326 - accuracy: 0.9116 - val_loss: 0.2731 - val_accuracy: 0.8999\n",
      "Epoch 5/30\n",
      "107/107 [==============================] - 3s 30ms/step - loss: 0.2273 - accuracy: 0.9162 - val_loss: 0.2729 - val_accuracy: 0.9008\n",
      "Epoch 6/30\n",
      "107/107 [==============================] - 3s 30ms/step - loss: 0.2088 - accuracy: 0.9221 - val_loss: 0.2623 - val_accuracy: 0.9070\n",
      "Epoch 7/30\n",
      "107/107 [==============================] - 3s 32ms/step - loss: 0.2005 - accuracy: 0.9247 - val_loss: 0.2902 - val_accuracy: 0.8929\n",
      "Epoch 8/30\n",
      "107/107 [==============================] - 3s 30ms/step - loss: 0.1951 - accuracy: 0.9282 - val_loss: 0.2730 - val_accuracy: 0.9017\n",
      "Epoch 9/30\n",
      "107/107 [==============================] - 3s 30ms/step - loss: 0.1904 - accuracy: 0.9290 - val_loss: 0.2572 - val_accuracy: 0.9076\n",
      "Epoch 10/30\n",
      "107/107 [==============================] - 3s 31ms/step - loss: 0.1844 - accuracy: 0.9302 - val_loss: 0.2850 - val_accuracy: 0.8994\n",
      "Epoch 11/30\n",
      "107/107 [==============================] - 4s 37ms/step - loss: 0.1753 - accuracy: 0.9326 - val_loss: 0.2693 - val_accuracy: 0.9064\n",
      "Epoch 12/30\n",
      "107/107 [==============================] - 4s 33ms/step - loss: 0.1694 - accuracy: 0.9333 - val_loss: 0.2730 - val_accuracy: 0.9105\n",
      "Epoch 13/30\n",
      "107/107 [==============================] - 4s 33ms/step - loss: 0.1621 - accuracy: 0.9389 - val_loss: 0.3067 - val_accuracy: 0.8961\n",
      "Epoch 14/30\n",
      "107/107 [==============================] - 3s 31ms/step - loss: 0.1660 - accuracy: 0.9384 - val_loss: 0.2680 - val_accuracy: 0.9099\n",
      "Epoch 15/30\n",
      "107/107 [==============================] - 4s 37ms/step - loss: 0.1512 - accuracy: 0.9445 - val_loss: 0.3108 - val_accuracy: 0.8932\n",
      "Epoch 16/30\n",
      "107/107 [==============================] - 4s 41ms/step - loss: 0.1480 - accuracy: 0.9453 - val_loss: 0.2883 - val_accuracy: 0.9038\n",
      "Epoch 17/30\n",
      "107/107 [==============================] - 4s 41ms/step - loss: 0.1453 - accuracy: 0.9470 - val_loss: 0.3540 - val_accuracy: 0.8867\n",
      "Epoch 18/30\n",
      "107/107 [==============================] - 4s 38ms/step - loss: 0.1374 - accuracy: 0.9458 - val_loss: 0.2748 - val_accuracy: 0.9149\n",
      "Epoch 19/30\n",
      "107/107 [==============================] - 4s 35ms/step - loss: 0.1383 - accuracy: 0.9469 - val_loss: 0.2780 - val_accuracy: 0.9052\n",
      "Epoch 20/30\n",
      "107/107 [==============================] - 4s 34ms/step - loss: 0.1496 - accuracy: 0.9412 - val_loss: 0.2863 - val_accuracy: 0.9096\n",
      "Epoch 21/30\n",
      "107/107 [==============================] - 3s 32ms/step - loss: 0.1311 - accuracy: 0.9500 - val_loss: 0.2876 - val_accuracy: 0.9114\n",
      "Epoch 22/30\n",
      "107/107 [==============================] - 3s 29ms/step - loss: 0.1253 - accuracy: 0.9516 - val_loss: 0.3119 - val_accuracy: 0.9079\n",
      "Epoch 23/30\n",
      "107/107 [==============================] - 3s 30ms/step - loss: 0.1222 - accuracy: 0.9525 - val_loss: 0.3033 - val_accuracy: 0.9073\n",
      "Epoch 24/30\n",
      "107/107 [==============================] - 3s 30ms/step - loss: 0.1215 - accuracy: 0.9530 - val_loss: 0.3076 - val_accuracy: 0.9079\n",
      "Epoch 25/30\n",
      "107/107 [==============================] - 3s 30ms/step - loss: 0.1216 - accuracy: 0.9528 - val_loss: 0.2981 - val_accuracy: 0.9085\n",
      "Epoch 26/30\n",
      "107/107 [==============================] - 3s 33ms/step - loss: 0.1173 - accuracy: 0.9572 - val_loss: 0.3072 - val_accuracy: 0.9070\n",
      "Epoch 27/30\n",
      "107/107 [==============================] - 4s 33ms/step - loss: 0.1144 - accuracy: 0.9566 - val_loss: 0.2988 - val_accuracy: 0.9096\n",
      "Epoch 28/30\n",
      "107/107 [==============================] - 4s 34ms/step - loss: 0.1124 - accuracy: 0.9584 - val_loss: 0.2901 - val_accuracy: 0.9120\n",
      "Epoch 29/30\n",
      "107/107 [==============================] - 4s 35ms/step - loss: 0.1110 - accuracy: 0.9584 - val_loss: 0.3059 - val_accuracy: 0.9129\n",
      "Epoch 30/30\n",
      "107/107 [==============================] - 4s 33ms/step - loss: 0.1018 - accuracy: 0.9610 - val_loss: 0.3071 - val_accuracy: 0.9093\n"
     ]
    }
   ],
   "source": [
    "# Окончатлеьно обучение модели\n",
    "history_3 = model.fit(\n",
    "    X_train, \n",
    "    y_train,\n",
    "    validation_data = (X_val, y_val),\n",
    "    epochs = 30,\n",
    "    batch_size = 128,\n",
    "    verbose = 1,\n",
    ")"
   ]
  },
  {
   "cell_type": "code",
   "execution_count": 57,
   "id": "c1cccb53-fcbd-469a-ab62-cc22f8e60b1c",
   "metadata": {},
   "outputs": [
    {
     "name": "stdout",
     "output_type": "stream",
     "text": [
      "313/313 [==============================] - 1s 3ms/step\n"
     ]
    }
   ],
   "source": [
    "# Предсказание на тестовых данных\n",
    "predictions = model.predict(X_test)\n",
    "predicted_labels = np.argmax(predictions, axis=1)"
   ]
  },
  {
   "cell_type": "markdown",
   "id": "9aa09e9b-d96e-4564-bd58-f36bbc34b040",
   "metadata": {},
   "source": [
    "### Выгрузка результата"
   ]
  },
  {
   "cell_type": "code",
   "execution_count": 58,
   "id": "689f2b55-da7c-4fc1-bbb4-fb5241f27e73",
   "metadata": {},
   "outputs": [],
   "source": [
    "# Создание DataFrame с предсказаниями\n",
    "submission = pd.DataFrame({\n",
    "    'Id': test_df['Id'],\n",
    "    'label': predicted_labels,\n",
    "})"
   ]
  },
  {
   "cell_type": "code",
   "execution_count": 59,
   "id": "13640599-0b34-4cf3-b7e4-f60899c0eeb9",
   "metadata": {},
   "outputs": [
    {
     "name": "stdout",
     "output_type": "stream",
     "text": [
      "   Id  label\n",
      "0   0      0\n",
      "1   1      1\n",
      "2   2      2\n"
     ]
    }
   ],
   "source": [
    "# Проверка первых строк\n",
    "print(submission.head(3))"
   ]
  },
  {
   "cell_type": "code",
   "execution_count": 60,
   "id": "0c4e231c-9424-4060-989e-fb093f55f975",
   "metadata": {},
   "outputs": [],
   "source": [
    "# Сохранение результатов\n",
    "submission.to_csv('submission.csv', index = False)"
   ]
  }
 ],
 "metadata": {
  "kernelspec": {
   "display_name": "Python 3 (ipykernel)",
   "language": "python",
   "name": "python3"
  },
  "language_info": {
   "codemirror_mode": {
    "name": "ipython",
    "version": 3
   },
   "file_extension": ".py",
   "mimetype": "text/x-python",
   "name": "python",
   "nbconvert_exporter": "python",
   "pygments_lexer": "ipython3",
   "version": "3.11.5"
  }
 },
 "nbformat": 4,
 "nbformat_minor": 5
}
